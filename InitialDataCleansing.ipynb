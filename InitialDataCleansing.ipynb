{
 "cells": [
  {
   "cell_type": "markdown",
   "id": "a903954e",
   "metadata": {},
   "source": [
    "Import Statements"
   ]
  },
  {
   "cell_type": "code",
   "execution_count": 61,
   "id": "666f48bc",
   "metadata": {},
   "outputs": [],
   "source": [
    "import pandas as pd\n",
    "import sqlite3\n",
    "import numpy as np\n",
    "import requests"
   ]
  },
  {
   "cell_type": "markdown",
   "id": "700943a2",
   "metadata": {},
   "source": [
    "Connect to the data. The data is in a SQLLite Database file"
   ]
  },
  {
   "cell_type": "code",
   "execution_count": 62,
   "id": "5db924c9",
   "metadata": {},
   "outputs": [],
   "source": [
    "cursor = sqlite3.connect('./Data/FPA_FOD_20210617.sqlite')"
   ]
  },
  {
   "cell_type": "markdown",
   "id": "cdbec7ac",
   "metadata": {},
   "source": [
    "Define a query to pull in all the records from the Database file"
   ]
  },
  {
   "cell_type": "code",
   "execution_count": 63,
   "id": "b621f53c",
   "metadata": {},
   "outputs": [],
   "source": [
    "query = \"SELECT f.* from Fires f\"\n",
    "all_data = pd.read_sql_query(query, cursor)"
   ]
  },
  {
   "cell_type": "markdown",
   "id": "f3c60db1",
   "metadata": {},
   "source": [
    "Take a look at the first record in the dataset"
   ]
  },
  {
   "cell_type": "code",
   "execution_count": 64,
   "id": "87c6d36b",
   "metadata": {},
   "outputs": [
    {
     "data": {
      "text/plain": [
       "FOD_ID                                                  2\n",
       "FPA_ID                                         FS-1418827\n",
       "SOURCE_SYSTEM_TYPE                                    FED\n",
       "SOURCE_SYSTEM                                 FS-FIRESTAT\n",
       "NWCG_REPORTING_AGENCY                                  FS\n",
       "NWCG_REPORTING_UNIT_ID                            USCAENF\n",
       "NWCG_REPORTING_UNIT_NAME         Eldorado National Forest\n",
       "SOURCE_REPORTING_UNIT                                 503\n",
       "SOURCE_REPORTING_UNIT_NAME       Eldorado National Forest\n",
       "LOCAL_FIRE_REPORT_ID                                   13\n",
       "LOCAL_INCIDENT_ID                                      13\n",
       "FIRE_CODE                                            AAC0\n",
       "FIRE_NAME                                          PIGEON\n",
       "ICS_209_PLUS_INCIDENT_JOIN_ID                        None\n",
       "ICS_209_PLUS_COMPLEX_JOIN_ID                         None\n",
       "MTBS_ID                                              None\n",
       "MTBS_FIRE_NAME                                       None\n",
       "COMPLEX_NAME                                         None\n",
       "FIRE_YEAR                                            2004\n",
       "DISCOVERY_DATE                             5/12/2004 0:00\n",
       "DISCOVERY_DOY                                         133\n",
       "DISCOVERY_TIME                                      845.0\n",
       "NWCG_CAUSE_CLASSIFICATION                         Natural\n",
       "NWCG_GENERAL_CAUSE                                Natural\n",
       "NWCG_CAUSE_AGE_CATEGORY                              None\n",
       "CONT_DATE                                  5/12/2004 0:00\n",
       "CONT_DOY                                            133.0\n",
       "CONT_TIME                                          1530.0\n",
       "FIRE_SIZE                                            0.25\n",
       "FIRE_SIZE_CLASS                                         A\n",
       "LATITUDE                                        38.933056\n",
       "LONGITUDE                                     -120.404444\n",
       "OWNER_DESCR                                          USFS\n",
       "STATE                                                  CA\n",
       "COUNTY                                                 61\n",
       "FIPS_CODE                                           06061\n",
       "FIPS_NAME                                   Placer County\n",
       "Name: 1, dtype: object"
      ]
     },
     "execution_count": 64,
     "metadata": {},
     "output_type": "execute_result"
    }
   ],
   "source": [
    "all_data.iloc[1]"
   ]
  },
  {
   "cell_type": "markdown",
   "id": "7155c85a",
   "metadata": {},
   "source": [
    "I will only need a handful of these so I can subset to the columns which I require"
   ]
  },
  {
   "cell_type": "code",
   "execution_count": 67,
   "id": "8e7cd80c",
   "metadata": {},
   "outputs": [],
   "source": [
    "columns = ['DISCOVERY_DATE','FIRE_SIZE_CLASS', 'LATITUDE', 'LONGITUDE', \n",
    "           'FIPS_CODE', 'STATE', 'COUNTY']\n",
    "subset_data = all_data[columns]"
   ]
  },
  {
   "cell_type": "markdown",
   "id": "3af84c83",
   "metadata": {},
   "source": [
    "Let's check data types to make sure nothing funky happened"
   ]
  },
  {
   "cell_type": "code",
   "execution_count": 68,
   "id": "c6d54ce7",
   "metadata": {},
   "outputs": [
    {
     "data": {
      "text/plain": [
       "DISCOVERY_DATE          0\n",
       "FIRE_SIZE_CLASS         0\n",
       "LATITUDE                0\n",
       "LONGITUDE               0\n",
       "FIPS_CODE          657235\n",
       "STATE                   0\n",
       "COUNTY             657235\n",
       "dtype: int64"
      ]
     },
     "execution_count": 68,
     "metadata": {},
     "output_type": "execute_result"
    }
   ],
   "source": [
    "subset_data.isna().sum()"
   ]
  },
  {
   "cell_type": "code",
   "execution_count": 69,
   "id": "bb7c00ba",
   "metadata": {},
   "outputs": [
    {
     "data": {
      "text/plain": [
       "(2166753, 7)"
      ]
     },
     "execution_count": 69,
     "metadata": {},
     "output_type": "execute_result"
    }
   ],
   "source": [
    "subset_data.shape"
   ]
  },
  {
   "cell_type": "code",
   "execution_count": 34,
   "id": "02766893",
   "metadata": {},
   "outputs": [
    {
     "data": {
      "text/plain": [
       "DISCOVERY_DATE      object\n",
       "FIRE_SIZE_CLASS     object\n",
       "LATITUDE           float64\n",
       "LONGITUDE          float64\n",
       "FIPS_CODE           object\n",
       "dtype: object"
      ]
     },
     "execution_count": 34,
     "metadata": {},
     "output_type": "execute_result"
    }
   ],
   "source": [
    "subset_data.dtypes"
   ]
  },
  {
   "cell_type": "code",
   "execution_count": 35,
   "id": "afd9fb57",
   "metadata": {},
   "outputs": [
    {
     "name": "stderr",
     "output_type": "stream",
     "text": [
      "C:\\ProgramData\\Anaconda3\\lib\\site-packages\\pandas\\core\\indexing.py:1773: SettingWithCopyWarning: \n",
      "A value is trying to be set on a copy of a slice from a DataFrame.\n",
      "Try using .loc[row_indexer,col_indexer] = value instead\n",
      "\n",
      "See the caveats in the documentation: https://pandas.pydata.org/pandas-docs/stable/user_guide/indexing.html#returning-a-view-versus-a-copy\n",
      "  self._setitem_single_column(ilocs[0], value, pi)\n"
     ]
    }
   ],
   "source": [
    "subset_data.loc[:, 'DISCOVERY_DATE'] = pd.to_datetime(subset_data.loc[:, 'DISCOVERY_DATE'].copy())"
   ]
  },
  {
   "cell_type": "code",
   "execution_count": 36,
   "id": "45e35f7e",
   "metadata": {},
   "outputs": [
    {
     "data": {
      "text/plain": [
       "count                          2166753\n",
       "mean     2005-10-09 12:01:09.283393536\n",
       "min                1992-01-01 00:00:00\n",
       "25%                1999-08-22 00:00:00\n",
       "50%                2006-03-04 00:00:00\n",
       "75%                2011-10-20 00:00:00\n",
       "max                2018-12-31 00:00:00\n",
       "Name: DISCOVERY_DATE, dtype: object"
      ]
     },
     "execution_count": 36,
     "metadata": {},
     "output_type": "execute_result"
    }
   ],
   "source": [
    "subset_data['DISCOVERY_DATE'].describe(datetime_is_numeric=True)"
   ]
  },
  {
   "cell_type": "markdown",
   "id": "4b8afe62",
   "metadata": {},
   "source": [
    "Let's get some descriptions of these columns to see what we are working with"
   ]
  },
  {
   "cell_type": "markdown",
   "id": "b7403e7a",
   "metadata": {},
   "source": [
    "Let's start with the categorical columns"
   ]
  },
  {
   "cell_type": "code",
   "execution_count": 37,
   "id": "c40da87f",
   "metadata": {},
   "outputs": [
    {
     "data": {
      "text/plain": [
       "FIRE_SIZE_CLASS\n",
       "B                  1047772\n",
       "A                   810694\n",
       "C                   246247\n",
       "D                    32261\n",
       "E                    16227\n",
       "F                     9097\n",
       "G                     4455\n",
       "dtype: int64"
      ]
     },
     "execution_count": 37,
     "metadata": {},
     "output_type": "execute_result"
    }
   ],
   "source": [
    "subset_data[['FIRE_SIZE_CLASS']].value_counts()"
   ]
  },
  {
   "cell_type": "code",
   "execution_count": 39,
   "id": "2d04308a",
   "metadata": {},
   "outputs": [
    {
     "data": {
      "text/html": [
       "<div>\n",
       "<style scoped>\n",
       "    .dataframe tbody tr th:only-of-type {\n",
       "        vertical-align: middle;\n",
       "    }\n",
       "\n",
       "    .dataframe tbody tr th {\n",
       "        vertical-align: top;\n",
       "    }\n",
       "\n",
       "    .dataframe thead th {\n",
       "        text-align: right;\n",
       "    }\n",
       "</style>\n",
       "<table border=\"1\" class=\"dataframe\">\n",
       "  <thead>\n",
       "    <tr style=\"text-align: right;\">\n",
       "      <th></th>\n",
       "      <th>FIPS_CODE</th>\n",
       "    </tr>\n",
       "  </thead>\n",
       "  <tbody>\n",
       "    <tr>\n",
       "      <th>count</th>\n",
       "      <td>1509518</td>\n",
       "    </tr>\n",
       "    <tr>\n",
       "      <th>unique</th>\n",
       "      <td>2925</td>\n",
       "    </tr>\n",
       "    <tr>\n",
       "      <th>top</th>\n",
       "      <td>06065</td>\n",
       "    </tr>\n",
       "    <tr>\n",
       "      <th>freq</th>\n",
       "      <td>14989</td>\n",
       "    </tr>\n",
       "  </tbody>\n",
       "</table>\n",
       "</div>"
      ],
      "text/plain": [
       "       FIPS_CODE\n",
       "count    1509518\n",
       "unique      2925\n",
       "top        06065\n",
       "freq       14989"
      ]
     },
     "execution_count": 39,
     "metadata": {},
     "output_type": "execute_result"
    }
   ],
   "source": [
    "subset_data[['FIPS_CODE']].describe()"
   ]
  },
  {
   "cell_type": "markdown",
   "id": "8d4b5995",
   "metadata": {},
   "source": [
    "Looking at the missing data"
   ]
  },
  {
   "cell_type": "code",
   "execution_count": 41,
   "id": "832b6b29",
   "metadata": {},
   "outputs": [
    {
     "data": {
      "text/plain": [
       "DISCOVERY_DATE        0\n",
       "FIRE_SIZE_CLASS       0\n",
       "LATITUDE              0\n",
       "LONGITUDE             0\n",
       "FIPS_CODE          1888\n",
       "dtype: int64"
      ]
     },
     "execution_count": 41,
     "metadata": {},
     "output_type": "execute_result"
    }
   ],
   "source": [
    "subset_data[subset_data['FIRE_SIZE_CLASS'] == 'G'].isna().sum()"
   ]
  },
  {
   "cell_type": "markdown",
   "id": "f9da206f",
   "metadata": {},
   "source": [
    "Do some imputation of FIPS_CODE using FCC API which can provide FIPS Code based on lat/long - which are available for all wildfires. \n",
    "\n",
    "FCC API Details: https://geo.fcc.gov/api/census/#!/block/get_block_find"
   ]
  },
  {
   "cell_type": "code",
   "execution_count": 42,
   "id": "f0822f4c",
   "metadata": {},
   "outputs": [],
   "source": [
    "# This cell will take a while and the FCC API may time you out at some points but we can just use as much as we get\n",
    "\n",
    "# lat_long = subset_data[(subset_data['FIPS_CODE'].isna()) \n",
    "#                        & (subset_data['FIRE_SIZE_CLASS'] == 'G')][['LATITUDE', 'LONGITUDE']].values\n",
    "# fips = []\n",
    "# for ll in lat_long:\n",
    "#     url = f\"https://geo.fcc.gov/api/census/block/find?latitude={ll[0]}&longitude={ll[1]}&format=json\"\n",
    "#     r = requests.get(url=url).json()\n",
    "#     fips.append(r['County']['FIPS'])"
   ]
  },
  {
   "cell_type": "code",
   "execution_count": 46,
   "id": "21079297",
   "metadata": {},
   "outputs": [],
   "source": [
    "inds = np.where((subset_data['FIPS_CODE'].isna()) \n",
    "                       & (subset_data['FIRE_SIZE_CLASS'] == 'G'))[0][:len(fips)]"
   ]
  },
  {
   "cell_type": "code",
   "execution_count": 49,
   "id": "d70220a6",
   "metadata": {},
   "outputs": [
    {
     "name": "stderr",
     "output_type": "stream",
     "text": [
      "C:\\ProgramData\\Anaconda3\\lib\\site-packages\\pandas\\core\\indexing.py:1773: SettingWithCopyWarning: \n",
      "A value is trying to be set on a copy of a slice from a DataFrame.\n",
      "Try using .loc[row_indexer,col_indexer] = value instead\n",
      "\n",
      "See the caveats in the documentation: https://pandas.pydata.org/pandas-docs/stable/user_guide/indexing.html#returning-a-view-versus-a-copy\n",
      "  self._setitem_single_column(ilocs[0], value, pi)\n"
     ]
    }
   ],
   "source": [
    "subset_data.loc[inds, \"FIPS_CODE\"] = fips"
   ]
  },
  {
   "cell_type": "code",
   "execution_count": 51,
   "id": "c356c69d",
   "metadata": {},
   "outputs": [
    {
     "data": {
      "text/plain": [
       "DISCOVERY_DATE       0\n",
       "FIRE_SIZE_CLASS      0\n",
       "LATITUDE             0\n",
       "LONGITUDE            0\n",
       "FIPS_CODE          462\n",
       "dtype: int64"
      ]
     },
     "execution_count": 51,
     "metadata": {},
     "output_type": "execute_result"
    }
   ],
   "source": [
    "subset_data[subset_data['FIRE_SIZE_CLASS'] == 'G'].isna().sum()"
   ]
  },
  {
   "cell_type": "markdown",
   "id": "20f74931",
   "metadata": {},
   "source": [
    "After using the Lat/Longs we can drop those columns as they are no longer needed"
   ]
  },
  {
   "cell_type": "code",
   "execution_count": 52,
   "id": "b55e6a55",
   "metadata": {},
   "outputs": [
    {
     "name": "stderr",
     "output_type": "stream",
     "text": [
      "C:\\ProgramData\\Anaconda3\\lib\\site-packages\\pandas\\core\\frame.py:4906: SettingWithCopyWarning: \n",
      "A value is trying to be set on a copy of a slice from a DataFrame\n",
      "\n",
      "See the caveats in the documentation: https://pandas.pydata.org/pandas-docs/stable/user_guide/indexing.html#returning-a-view-versus-a-copy\n",
      "  return super().drop(\n"
     ]
    }
   ],
   "source": [
    "subset_data.drop(['LATITUDE', 'LONGITUDE'], axis=1, inplace=True)"
   ]
  },
  {
   "cell_type": "markdown",
   "id": "1017bfb3",
   "metadata": {},
   "source": [
    "At this point - drop remaining nulls. Won't call FCC service for all nulls 600K is too many requests, just want to fill in the Size G fires as a handful of those don't have state/county info which I want to keep as many of the large fires as possible"
   ]
  },
  {
   "cell_type": "code",
   "execution_count": 53,
   "id": "6f35a003",
   "metadata": {},
   "outputs": [
    {
     "name": "stderr",
     "output_type": "stream",
     "text": [
      "C:\\ProgramData\\Anaconda3\\lib\\site-packages\\pandas\\util\\_decorators.py:311: SettingWithCopyWarning: \n",
      "A value is trying to be set on a copy of a slice from a DataFrame\n",
      "\n",
      "See the caveats in the documentation: https://pandas.pydata.org/pandas-docs/stable/user_guide/indexing.html#returning-a-view-versus-a-copy\n",
      "  return func(*args, **kwargs)\n"
     ]
    }
   ],
   "source": [
    "subset_data.dropna(inplace=True)"
   ]
  },
  {
   "cell_type": "markdown",
   "id": "c35d72f9",
   "metadata": {},
   "source": [
    "Create the Discovery Month Column"
   ]
  },
  {
   "cell_type": "code",
   "execution_count": 54,
   "id": "0d7a0904",
   "metadata": {},
   "outputs": [
    {
     "name": "stderr",
     "output_type": "stream",
     "text": [
      "C:\\Users\\DCAVAN~1\\AppData\\Local\\Temp/ipykernel_59212/728728171.py:1: SettingWithCopyWarning: \n",
      "A value is trying to be set on a copy of a slice from a DataFrame.\n",
      "Try using .loc[row_indexer,col_indexer] = value instead\n",
      "\n",
      "See the caveats in the documentation: https://pandas.pydata.org/pandas-docs/stable/user_guide/indexing.html#returning-a-view-versus-a-copy\n",
      "  subset_data['DISCOVERY_MONTH'] = subset_data['DISCOVERY_DATE'].to_numpy().astype('datetime64[M]')\n"
     ]
    }
   ],
   "source": [
    "subset_data['DISCOVERY_MONTH'] = subset_data['DISCOVERY_DATE'].to_numpy().astype('datetime64[M]')"
   ]
  },
  {
   "cell_type": "markdown",
   "id": "f87b3c51",
   "metadata": {},
   "source": [
    "Clean data looks like this"
   ]
  },
  {
   "cell_type": "code",
   "execution_count": 55,
   "id": "642ec6a8",
   "metadata": {},
   "outputs": [
    {
     "data": {
      "text/plain": [
       "DISCOVERY_DATE     2004-05-12 00:00:00\n",
       "FIRE_SIZE_CLASS                      A\n",
       "FIPS_CODE                        06061\n",
       "DISCOVERY_MONTH    2004-05-01 00:00:00\n",
       "Name: 1, dtype: object"
      ]
     },
     "execution_count": 55,
     "metadata": {},
     "output_type": "execute_result"
    }
   ],
   "source": [
    "subset_data.iloc[1]"
   ]
  },
  {
   "cell_type": "markdown",
   "id": "97f74e6d",
   "metadata": {},
   "source": [
    "Formatting as a matrix"
   ]
  },
  {
   "cell_type": "code",
   "execution_count": 56,
   "id": "5247370a",
   "metadata": {},
   "outputs": [],
   "source": [
    "final_data = subset_data.groupby(by=['DISCOVERY_MONTH', 'FIPS_CODE']).agg({'FIRE_SIZE_CLASS': max}).reset_index()"
   ]
  },
  {
   "cell_type": "code",
   "execution_count": 58,
   "id": "a42afd77",
   "metadata": {},
   "outputs": [],
   "source": [
    "final_data.to_csv(\"./Data/clean_fire_data.csv\", index=False)"
   ]
  },
  {
   "cell_type": "code",
   "execution_count": 60,
   "id": "ca954536",
   "metadata": {},
   "outputs": [
    {
     "data": {
      "text/html": [
       "<div>\n",
       "<style scoped>\n",
       "    .dataframe tbody tr th:only-of-type {\n",
       "        vertical-align: middle;\n",
       "    }\n",
       "\n",
       "    .dataframe tbody tr th {\n",
       "        vertical-align: top;\n",
       "    }\n",
       "\n",
       "    .dataframe thead th {\n",
       "        text-align: right;\n",
       "    }\n",
       "</style>\n",
       "<table border=\"1\" class=\"dataframe\">\n",
       "  <thead>\n",
       "    <tr style=\"text-align: right;\">\n",
       "      <th></th>\n",
       "      <th>DISCOVERY_MONTH</th>\n",
       "      <th>FIPS_CODE</th>\n",
       "      <th>FIRE_SIZE_CLASS</th>\n",
       "    </tr>\n",
       "  </thead>\n",
       "  <tbody>\n",
       "    <tr>\n",
       "      <th>0</th>\n",
       "      <td>1992-01-01</td>\n",
       "      <td>04003</td>\n",
       "      <td>C</td>\n",
       "    </tr>\n",
       "    <tr>\n",
       "      <th>1</th>\n",
       "      <td>1992-01-01</td>\n",
       "      <td>04013</td>\n",
       "      <td>A</td>\n",
       "    </tr>\n",
       "    <tr>\n",
       "      <th>2</th>\n",
       "      <td>1992-01-01</td>\n",
       "      <td>04027</td>\n",
       "      <td>A</td>\n",
       "    </tr>\n",
       "    <tr>\n",
       "      <th>3</th>\n",
       "      <td>1992-01-01</td>\n",
       "      <td>09001</td>\n",
       "      <td>B</td>\n",
       "    </tr>\n",
       "    <tr>\n",
       "      <th>4</th>\n",
       "      <td>1992-01-01</td>\n",
       "      <td>09005</td>\n",
       "      <td>A</td>\n",
       "    </tr>\n",
       "    <tr>\n",
       "      <th>...</th>\n",
       "      <td>...</td>\n",
       "      <td>...</td>\n",
       "      <td>...</td>\n",
       "    </tr>\n",
       "    <tr>\n",
       "      <th>262507</th>\n",
       "      <td>2018-12-01</td>\n",
       "      <td>56029</td>\n",
       "      <td>C</td>\n",
       "    </tr>\n",
       "    <tr>\n",
       "      <th>262508</th>\n",
       "      <td>2018-12-01</td>\n",
       "      <td>56031</td>\n",
       "      <td>B</td>\n",
       "    </tr>\n",
       "    <tr>\n",
       "      <th>262509</th>\n",
       "      <td>2018-12-01</td>\n",
       "      <td>56033</td>\n",
       "      <td>A</td>\n",
       "    </tr>\n",
       "    <tr>\n",
       "      <th>262510</th>\n",
       "      <td>2018-12-01</td>\n",
       "      <td>56045</td>\n",
       "      <td>C</td>\n",
       "    </tr>\n",
       "    <tr>\n",
       "      <th>262511</th>\n",
       "      <td>2018-12-01</td>\n",
       "      <td>72079</td>\n",
       "      <td>B</td>\n",
       "    </tr>\n",
       "  </tbody>\n",
       "</table>\n",
       "<p>262512 rows × 3 columns</p>\n",
       "</div>"
      ],
      "text/plain": [
       "       DISCOVERY_MONTH FIPS_CODE FIRE_SIZE_CLASS\n",
       "0           1992-01-01     04003               C\n",
       "1           1992-01-01     04013               A\n",
       "2           1992-01-01     04027               A\n",
       "3           1992-01-01     09001               B\n",
       "4           1992-01-01     09005               A\n",
       "...                ...       ...             ...\n",
       "262507      2018-12-01     56029               C\n",
       "262508      2018-12-01     56031               B\n",
       "262509      2018-12-01     56033               A\n",
       "262510      2018-12-01     56045               C\n",
       "262511      2018-12-01     72079               B\n",
       "\n",
       "[262512 rows x 3 columns]"
      ]
     },
     "execution_count": 60,
     "metadata": {},
     "output_type": "execute_result"
    }
   ],
   "source": []
  },
  {
   "cell_type": "markdown",
   "id": "37c7e359",
   "metadata": {},
   "source": [
    "## End of Initial Data Cleaning"
   ]
  },
  {
   "cell_type": "markdown",
   "id": "8951abc7",
   "metadata": {},
   "source": [
    "## Example of LA County, CA"
   ]
  },
  {
   "cell_type": "code",
   "execution_count": 18,
   "id": "017bba05",
   "metadata": {},
   "outputs": [],
   "source": [
    "# FIPS 06037 is Los Angeles County California\n",
    "example = final_data[final_data['FIPS_CODE'] == '06037']\n",
    "example = example.pivot(index='DISCOVERY_MONTH', columns='FIPS_CODE', values='FIRE_SIZE_CLASS')\n",
    "example[example.columns] = np.where(example == 'G', 1, 0)"
   ]
  },
  {
   "cell_type": "code",
   "execution_count": 19,
   "id": "114b6233",
   "metadata": {},
   "outputs": [],
   "source": [
    "complete_index = pd.date_range(start=min(subset_data['DISCOVERY_MONTH']), end=max(subset_data['DISCOVERY_MONTH']), \n",
    "                              freq='MS')"
   ]
  },
  {
   "cell_type": "code",
   "execution_count": 20,
   "id": "29f4dacb",
   "metadata": {},
   "outputs": [],
   "source": [
    "example = example.reindex(index=complete_index, fill_value=0)"
   ]
  },
  {
   "cell_type": "code",
   "execution_count": 21,
   "id": "4d6aedec",
   "metadata": {
    "scrolled": false
   },
   "outputs": [
    {
     "data": {
      "text/html": [
       "<div>\n",
       "<style scoped>\n",
       "    .dataframe tbody tr th:only-of-type {\n",
       "        vertical-align: middle;\n",
       "    }\n",
       "\n",
       "    .dataframe tbody tr th {\n",
       "        vertical-align: top;\n",
       "    }\n",
       "\n",
       "    .dataframe thead th {\n",
       "        text-align: right;\n",
       "    }\n",
       "</style>\n",
       "<table border=\"1\" class=\"dataframe\">\n",
       "  <thead>\n",
       "    <tr style=\"text-align: right;\">\n",
       "      <th>FIPS_CODE</th>\n",
       "      <th>06037</th>\n",
       "    </tr>\n",
       "  </thead>\n",
       "  <tbody>\n",
       "    <tr>\n",
       "      <th>count</th>\n",
       "      <td>324.000000</td>\n",
       "    </tr>\n",
       "    <tr>\n",
       "      <th>mean</th>\n",
       "      <td>0.037037</td>\n",
       "    </tr>\n",
       "    <tr>\n",
       "      <th>std</th>\n",
       "      <td>0.189145</td>\n",
       "    </tr>\n",
       "    <tr>\n",
       "      <th>min</th>\n",
       "      <td>0.000000</td>\n",
       "    </tr>\n",
       "    <tr>\n",
       "      <th>25%</th>\n",
       "      <td>0.000000</td>\n",
       "    </tr>\n",
       "    <tr>\n",
       "      <th>50%</th>\n",
       "      <td>0.000000</td>\n",
       "    </tr>\n",
       "    <tr>\n",
       "      <th>75%</th>\n",
       "      <td>0.000000</td>\n",
       "    </tr>\n",
       "    <tr>\n",
       "      <th>max</th>\n",
       "      <td>1.000000</td>\n",
       "    </tr>\n",
       "  </tbody>\n",
       "</table>\n",
       "</div>"
      ],
      "text/plain": [
       "FIPS_CODE       06037\n",
       "count      324.000000\n",
       "mean         0.037037\n",
       "std          0.189145\n",
       "min          0.000000\n",
       "25%          0.000000\n",
       "50%          0.000000\n",
       "75%          0.000000\n",
       "max          1.000000"
      ]
     },
     "execution_count": 21,
     "metadata": {},
     "output_type": "execute_result"
    }
   ],
   "source": [
    "example.describe()"
   ]
  }
 ],
 "metadata": {
  "kernelspec": {
   "display_name": "Python 3 (ipykernel)",
   "language": "python",
   "name": "python3"
  },
  "language_info": {
   "codemirror_mode": {
    "name": "ipython",
    "version": 3
   },
   "file_extension": ".py",
   "mimetype": "text/x-python",
   "name": "python",
   "nbconvert_exporter": "python",
   "pygments_lexer": "ipython3",
   "version": "3.8.12"
  }
 },
 "nbformat": 4,
 "nbformat_minor": 5
}
